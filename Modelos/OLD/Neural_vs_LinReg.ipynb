{
 "cells": [
  {
   "cell_type": "code",
   "execution_count": 1,
   "id": "bb6ecdd2",
   "metadata": {},
   "outputs": [],
   "source": [
    "import pandas as pd\n",
    "import numpy as np\n",
    "from scipy import stats"
   ]
  },
  {
   "cell_type": "code",
   "execution_count": 3,
   "id": "e14a6802",
   "metadata": {},
   "outputs": [
    {
     "data": {
      "text/html": [
       "<div>\n",
       "<style scoped>\n",
       "    .dataframe tbody tr th:only-of-type {\n",
       "        vertical-align: middle;\n",
       "    }\n",
       "\n",
       "    .dataframe tbody tr th {\n",
       "        vertical-align: top;\n",
       "    }\n",
       "\n",
       "    .dataframe thead th {\n",
       "        text-align: right;\n",
       "    }\n",
       "</style>\n",
       "<table border=\"1\" class=\"dataframe\">\n",
       "  <thead>\n",
       "    <tr style=\"text-align: right;\">\n",
       "      <th></th>\n",
       "      <th>y_pred_neural</th>\n",
       "      <th>y_pred_lin_reg</th>\n",
       "      <th>y_test</th>\n",
       "    </tr>\n",
       "  </thead>\n",
       "  <tbody>\n",
       "    <tr>\n",
       "      <th>0</th>\n",
       "      <td>0.537740</td>\n",
       "      <td>0.527458</td>\n",
       "      <td>0.572</td>\n",
       "    </tr>\n",
       "    <tr>\n",
       "      <th>1</th>\n",
       "      <td>0.438852</td>\n",
       "      <td>0.421540</td>\n",
       "      <td>0.452</td>\n",
       "    </tr>\n",
       "    <tr>\n",
       "      <th>2</th>\n",
       "      <td>0.590849</td>\n",
       "      <td>0.599796</td>\n",
       "      <td>0.580</td>\n",
       "    </tr>\n",
       "    <tr>\n",
       "      <th>3</th>\n",
       "      <td>0.532300</td>\n",
       "      <td>0.530301</td>\n",
       "      <td>0.496</td>\n",
       "    </tr>\n",
       "    <tr>\n",
       "      <th>4</th>\n",
       "      <td>0.538450</td>\n",
       "      <td>0.541787</td>\n",
       "      <td>0.664</td>\n",
       "    </tr>\n",
       "  </tbody>\n",
       "</table>\n",
       "</div>"
      ],
      "text/plain": [
       "   y_pred_neural  y_pred_lin_reg  y_test\n",
       "0       0.537740        0.527458   0.572\n",
       "1       0.438852        0.421540   0.452\n",
       "2       0.590849        0.599796   0.580\n",
       "3       0.532300        0.530301   0.496\n",
       "4       0.538450        0.541787   0.664"
      ]
     },
     "execution_count": 3,
     "metadata": {},
     "output_type": "execute_result"
    }
   ],
   "source": [
    "caminho_arquivo = r\"G:\\Meu Drive\\MESTRADO - MLOG\\Projeto EV-Explore Ambev\\TESTE_MAP_MATCHING_25_04\\neural_vs_linreg.xlsx\"\n",
    "\n",
    "df = pd.read_excel(caminho_arquivo)\n",
    "\n",
    "df.head()"
   ]
  },
  {
   "cell_type": "code",
   "execution_count": 4,
   "id": "450862a4",
   "metadata": {},
   "outputs": [
    {
     "name": "stdout",
     "output_type": "stream",
     "text": [
      "MSE:\n",
      "Neural Network: 19.630622098964125\n",
      "Linear Regression: 19.354457493080496\n",
      "\n",
      "MAE:\n",
      "Neural Network: 3.403148979610869\n",
      "Linear Regression: 3.561628623414012\n",
      "\n",
      "R²:\n",
      "Neural Network: 0.6817242089512854\n",
      "Linear Regression: 0.686201729223142\n",
      "\n",
      "Teste de hipótese:\n",
      "Valor de t: 0.1464586429883251\n",
      "Valor p: 0.884399675735937\n"
     ]
    }
   ],
   "source": [
    "# Suponha que você tenha carregado seu DataFrame em 'df'\n",
    "\n",
    "# Calcular o erro médio quadrático (MSE) para cada modelo\n",
    "mse_neural = np.mean((df['y_pred_neural'] - df['y_test']) ** 2)\n",
    "mse_lin_reg = np.mean((df['y_pred_lin_reg'] - df['y_test']) ** 2)\n",
    "\n",
    "# Calcular o erro absoluto médio (MAE) para cada modelo\n",
    "mae_neural = np.mean(np.abs(df['y_pred_neural'] - df['y_test']))\n",
    "mae_lin_reg = np.mean(np.abs(df['y_pred_lin_reg'] - df['y_test']))\n",
    "\n",
    "# Calcular o coeficiente de determinação (R²) para cada modelo\n",
    "r2_neural = 1 - np.sum((df['y_test'] - df['y_pred_neural']) ** 2) / np.sum((df['y_test'] - np.mean(df['y_test'])) ** 2)\n",
    "r2_lin_reg = 1 - np.sum((df['y_test'] - df['y_pred_lin_reg']) ** 2) / np.sum((df['y_test'] - np.mean(df['y_test'])) ** 2)\n",
    "\n",
    "# Realizar um teste de hipótese para determinar se há uma diferença significativa entre os modelos\n",
    "t_stat, p_value = stats.ttest_rel(df['y_pred_neural'], df['y_pred_lin_reg'])\n",
    "\n",
    "# Exibir os resultados\n",
    "print(\"MSE:\")\n",
    "print(\"1:\", mse_neural*10000)\n",
    "print(\"2:\", mse_lin_reg*10000)\n",
    "print(\"\\nMAE:\")\n",
    "print(\"1:\", mae_neural*100)\n",
    "print(\"2:\", mae_lin_reg*100)\n",
    "print(\"\\nR²:\")\n",
    "print(\"Neural Network:\", r2_neural)\n",
    "print(\"Linear Regression:\", r2_lin_reg)\n",
    "print(\"\\nTeste de hipótese:\")\n",
    "print(\"Valor de t:\", t_stat)\n",
    "print(\"Valor p:\", p_value)"
   ]
  }
 ],
 "metadata": {
  "kernelspec": {
   "display_name": "Python 3 (ipykernel)",
   "language": "python",
   "name": "python3"
  },
  "language_info": {
   "codemirror_mode": {
    "name": "ipython",
    "version": 3
   },
   "file_extension": ".py",
   "mimetype": "text/x-python",
   "name": "python",
   "nbconvert_exporter": "python",
   "pygments_lexer": "ipython3",
   "version": "3.11.7"
  }
 },
 "nbformat": 4,
 "nbformat_minor": 5
}
